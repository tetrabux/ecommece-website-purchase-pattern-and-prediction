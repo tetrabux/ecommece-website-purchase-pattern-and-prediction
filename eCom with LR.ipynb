{
 "cells": [
  {
   "cell_type": "code",
   "execution_count": 22,
   "metadata": {},
   "outputs": [],
   "source": [
    "import numpy as np\n",
    "import matplotlib.pyplot as plt\n",
    "\n",
    "from sklearn.utils import shuffle\n",
    "from backprocess import get_data,softmax"
   ]
  },
  {
   "cell_type": "code",
   "execution_count": 23,
   "metadata": {},
   "outputs": [],
   "source": [
    "def y2indicator(y,K):\n",
    "    N = len(y)\n",
    "    ind = np.zeros((N,K))\n",
    "    for i in range(N):\n",
    "        ind[i,y[i]] = 1\n",
    "        \n",
    "    return ind"
   ]
  },
  {
   "cell_type": "code",
   "execution_count": 24,
   "metadata": {},
   "outputs": [],
   "source": [
    "X,Y = get_data()\n",
    "X,Y = shuffle(X,Y)\n",
    "\n",
    "Y =Y.astype(int)\n",
    "\n",
    "D = X.shape[1]\n",
    "K = len(set(Y))\n",
    "\n"
   ]
  },
  {
   "cell_type": "code",
   "execution_count": 25,
   "metadata": {},
   "outputs": [],
   "source": [
    "X_train = X[:-100]\n",
    "Y_train = Y[:-100]\n",
    "Y_train_ind = y2indicator(Y_train, K)\n",
    "\n",
    "X_test = X[-100:]\n",
    "Y_test = Y[-100:]\n",
    "Y_test_ind = y2indicator(Y_test, K)\n",
    "\n",
    "W = np.random.rand(D,K)\n",
    "b = np.zeros(K)"
   ]
  },
  {
   "cell_type": "code",
   "execution_count": 26,
   "metadata": {},
   "outputs": [],
   "source": [
    "def forward(X,W,b):\n",
    "    return softmax(X.dot(W) + b)\n"
   ]
  },
  {
   "cell_type": "code",
   "execution_count": 27,
   "metadata": {},
   "outputs": [],
   "source": [
    "def predict(P_Y_given_X):\n",
    "    return np.argmax(P_Y_given_X,axis =1)"
   ]
  },
  {
   "cell_type": "code",
   "execution_count": 28,
   "metadata": {},
   "outputs": [],
   "source": [
    "def classification_rate(Y,P):\n",
    "    return np.mean(Y == P)"
   ]
  },
  {
   "cell_type": "code",
   "execution_count": 29,
   "metadata": {},
   "outputs": [],
   "source": [
    "def cross_entropy(T, pY):\n",
    "    return -np.mean(T*np.log(pY))"
   ]
  },
  {
   "cell_type": "code",
   "execution_count": 30,
   "metadata": {},
   "outputs": [],
   "source": [
    "train_cost = []\n",
    "test_cost = []\n",
    "\n",
    "learning_rate = 0.001"
   ]
  },
  {
   "cell_type": "code",
   "execution_count": 31,
   "metadata": {},
   "outputs": [
    {
     "name": "stdout",
     "output_type": "stream",
     "text": [
      "0 0.40270306386071975 0.406823735629757\n",
      "1000 0.0935144115870624 0.07163171623972915\n",
      "2000 0.08948701609928954 0.0674141491153914\n",
      "3000 0.0880162759398059 0.06589547764273114\n",
      "4000 0.08728552079537655 0.06516404545111586\n",
      "5000 0.08686106861517906 0.06475687422609332\n",
      "6000 0.08658971532936365 0.06450973458068161\n",
      "7000 0.08640463311635624 0.06435097600040285\n",
      "8000 0.08627239781494006 0.06424489647006261\n",
      "9000 0.08617458327013075 0.0641719826138431\n",
      "Final train classification_rate : 0.9025\n",
      "Final test classification_rate : 0.9\n"
     ]
    }
   ],
   "source": [
    "for i in range(10000):\n",
    "    pY_train = forward(X_train, W, b)\n",
    "    pY_test = forward(X_test, W, b)\n",
    "    \n",
    "    c_train = cross_entropy(Y_train_ind,pY_train)\n",
    "    c_test = cross_entropy(Y_test_ind,pY_test)\n",
    "    \n",
    "    train_cost.append(c_train)\n",
    "    test_cost.append(c_test)\n",
    "    \n",
    "    W -= learning_rate*X_train.T.dot(pY_train - Y_train_ind)\n",
    "    b -= learning_rate*(pY_train - Y_train_ind).sum(axis = 0)\n",
    "    \n",
    "    if i % 1000 == 0 :\n",
    "        print (i , c_train, c_test)\n",
    "\n",
    "print (\"Final train classification_rate : \" + str(classification_rate(Y_train, predict(pY_train))))\n",
    "print (\"Final test classification_rate : \" + str(classification_rate(Y_test, predict(pY_test))))"
   ]
  },
  {
   "cell_type": "code",
   "execution_count": 39,
   "metadata": {},
   "outputs": [
    {
     "data": {
      "image/png": "[encoded data removed]",
      "text/plain": [
       "<Figure size 432x288 with 1 Axes>"
      ]
     },
     "metadata": {
      "needs_background": "light"
     },
     "output_type": "display_data"
    }
   ],
   "source": [
    "legend1, = plt.plot(train_cost, label = 'train cost')\n",
    "legend2, = plt.plot(test_cost, label = 'test cost')\n",
    "\n",
    "plt.legend([legend1,legend2])\n",
    "plt.show()"
   ]
  },
  {
   "cell_type": "code",
   "execution_count": null,
   "metadata": {},
   "outputs": [],
   "source": []
  },
  {
   "cell_type": "code",
   "execution_count": 38,
   "metadata": {},
   "outputs": [
    {
     "data": {
      "image/png": "[encoded data removed]",
      "text/plain": [
       "<Figure size 432x288 with 1 Axes>"
      ]
     },
     "metadata": {
      "needs_background": "light"
     },
     "output_type": "display_data"
    }
   ],
   "source": []
  },
  {
   "cell_type": "code",
   "execution_count": null,
   "metadata": {},
   "outputs": [],
   "source": []
  },
  {
   "cell_type": "code",
   "execution_count": null,
   "metadata": {},
   "outputs": [],
   "source": [
    " "
   ]
  }
 ],
 "metadata": {
  "kernelspec": {
   "display_name": "Python 3",
   "language": "python",
   "name": "python3"
  },
  "language_info": {
   "codemirror_mode": {
    "name": "ipython",
    "version": 3
   },
   "file_extension": ".py",
   "mimetype": "text/x-python",
   "name": "python",
   "nbconvert_exporter": "python",
   "pygments_lexer": "ipython3",
   "version": "3.7.1"
  }
 },
 "nbformat": 4,
 "nbformat_minor": 2
}
