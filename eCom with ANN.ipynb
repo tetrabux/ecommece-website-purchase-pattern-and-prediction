{
 "cells": [
  {
   "cell_type": "code",
   "execution_count": 38,
   "metadata": {},
   "outputs": [],
   "source": [
    "import numpy as np\n",
    "import pandas as pd\n",
    "import matplotlib.pyplot as plt\n",
    "\n",
    "from sklearn.utils import shuffle"
   ]
  },
  {
   "cell_type": "code",
   "execution_count": 51,
   "metadata": {},
   "outputs": [],
   "source": [
    "def y2indicator(Y,K):\n",
    "    N = len(Y)\n",
    "    \n",
    "    ind = np.zeros((N,K))\n",
    "    for i in range(N):\n",
    "        ind[i,Y[i]] = 1\n",
    "        \n",
    "    return ind"
   ]
  },
  {
   "cell_type": "code",
   "execution_count": 52,
   "metadata": {},
   "outputs": [],
   "source": [
    "def get_data():\n",
    "    df = pd.read_csv('ecommerce_data.csv')\n",
    "    data = df.as_matrix()\n",
    "\n",
    "    X = data[:, :-1]\n",
    "    Y = data[:, -1]\n",
    "\n",
    "    X[:, 1] = (X[:, 1] - X[:, 1].mean()) / X[:, 1].std()\n",
    "    X[:, 2] = (X[:, 2] - X[:, 2].mean()) / X[:, 2].std()\n",
    "\n",
    "    N, D = X.shape\n",
    "    X2 = np.zeros((N, D + 3))\n",
    "    X2[:, :(D - 1)] = X[:, :(D - 1)]\n",
    "\n",
    "    for n in range(N):\n",
    "        t = int(X[n, D - 1])\n",
    "        X2[n, (t + D - 1)] = 1\n",
    "\n",
    "    return X2, Y"
   ]
  },
  {
   "cell_type": "code",
   "execution_count": 53,
   "metadata": {},
   "outputs": [],
   "source": [
    "def softmax(a):\n",
    "    expA = np.exp(a)\n",
    "    return expA/expA.sum(axis=1,keepdims=True)"
   ]
  },
  {
   "cell_type": "code",
   "execution_count": 75,
   "metadata": {},
   "outputs": [
    {
     "name": "stderr",
     "output_type": "stream",
     "text": [
      "C:\\anaconda\\lib\\site-packages\\ipykernel_launcher.py:3: FutureWarning: Method .as_matrix will be removed in a future version. Use .values instead.\n",
      "  This is separate from the ipykernel package so we can avoid doing imports until\n"
     ]
    }
   ],
   "source": [
    "X,Y = get_data()\n",
    "X,Y = shuffle(X,Y)\n",
    "\n",
    "Y = Y.astype(int)\n",
    "\n",
    "D = X.shape[1]\n",
    "M = 5\n",
    "K = len(set(Y))\n",
    "\n",
    "X_train = X[:-100]\n",
    "Y_train = Y[:-100]\n",
    "Y_train_ind = y2indicator(Y_train,K)\n",
    "\n",
    "X_test = X[-100:]\n",
    "Y_test = Y[-100:]\n",
    "Y_test_ind = y2indicator(Y_test,K)"
   ]
  },
  {
   "cell_type": "code",
   "execution_count": 64,
   "metadata": {},
   "outputs": [],
   "source": [
    "W1 = np.random.rand(D,M)\n",
    "b1 = np.zeros(M)\n",
    "W2 = np.random.rand(M,K)\n",
    "b2 = np.zeros(K)\n",
    "\n"
   ]
  },
  {
   "cell_type": "code",
   "execution_count": 65,
   "metadata": {},
   "outputs": [],
   "source": [
    "def forward(X,W1,b1,W2,b2):\n",
    "    Z = np.tanh(X.dot(W1) + b1)\n",
    "    return softmax(Z.dot(W2) + b2) , Z"
   ]
  },
  {
   "cell_type": "code",
   "execution_count": 66,
   "metadata": {},
   "outputs": [],
   "source": [
    "def predict(P_Y_given_X):\n",
    "    return np.argmax(P_Y_given_X,axis=1)"
   ]
  },
  {
   "cell_type": "code",
   "execution_count": 67,
   "metadata": {},
   "outputs": [],
   "source": [
    "def classification_rate(Y,P):\n",
    "    return np.mean(Y == P)"
   ]
  },
  {
   "cell_type": "code",
   "execution_count": 68,
   "metadata": {},
   "outputs": [],
   "source": [
    "def cross_entropy(T,pY):\n",
    "    return -np.mean(T*np.log(pY))"
   ]
  },
  {
   "cell_type": "code",
   "execution_count": 69,
   "metadata": {},
   "outputs": [],
   "source": [
    "train_cost = []\n",
    "test_cost = []\n",
    "\n",
    "learning_rate = 0.001"
   ]
  },
  {
   "cell_type": "code",
   "execution_count": 79,
   "metadata": {},
   "outputs": [
    {
     "name": "stdout",
     "output_type": "stream",
     "text": [
      "0 0.006353343357934618 0.029790036671545197\n",
      "1000 0.006136079550222393 0.030175686071692617\n",
      "2000 0.0059369787423708895 0.030602708324365145\n",
      "3000 0.0057537528528867465 0.031068945779409152\n",
      "4000 0.005585019186219554 0.03157373367074197\n",
      "5000 0.0054295158706851076 0.03211004966019684\n",
      "6000 0.005285877541456937 0.03266532347251653\n",
      "7000 0.00515276849015402 0.033227951947955546\n",
      "8000 0.005028989338000884 0.033790316903835466\n",
      "9000 0.004913496211987144 0.03434818551927213\n",
      "10000 0.004805387487056896 0.034899378302441136\n",
      "11000 0.004703885145405237 0.03544283221801448\n",
      "12000 0.004608316943325937 0.03597808220551166\n",
      "13000 0.0045181004644888716 0.036504990592958\n",
      "14000 0.004432729284000687 0.03702360403538848\n",
      "15000 0.00435176122381864 0.03753407456523822\n",
      "16000 0.00427480852908274 0.038036613708175036\n",
      "17000 0.004201529716105569 0.03853146448505617\n",
      "18000 0.004131622824627404 0.03901888365624879\n",
      "19000 0.004064819825319472 0.03949913017515992\n",
      "20000 0.004000881967715883 0.03997245759100008\n",
      "21000 0.003939595891073553 0.040439109044239974\n",
      "22000 0.003880770354856072 0.040899313986175904\n",
      "23000 0.003824233474339409 0.04135328604187139\n",
      "24000 0.003769830370040207 0.04180122162416265\n",
      "25000 0.0037174211579584894 0.04224329904055749\n",
      "26000 0.0036668792219429892 0.04267967793414849\n",
      "27000 0.003618089720717925 0.04311049897280816\n",
      "28000 0.0035709482909860703 0.04353588375287351\n",
      "29000 0.0035253599151101526 0.0439559349181114\n",
      "30000 0.003481237927588913 0.04437073651536964\n",
      "31000 0.003438503139194277 0.044780354617923644\n",
      "32000 0.0033970830614422783 0.04518483824846066\n",
      "33000 0.00335691121719643 0.045584220627732035\n",
      "34000 0.003317926525766485 0.04597852076352935\n",
      "35000 0.0032800727529604325 0.046367745378960434\n",
      "36000 0.003243298018243145 0.0467518911601744\n",
      "37000 0.0032075543525116835 0.047130947282979826\n",
      "38000 0.0031727973010672768 0.047504898156732214\n",
      "39000 0.0031389855671941757 0.04787372630421963\n",
      "40000 0.003106080692391766 0.0482374152799914\n",
      "41000 0.0030740467697898876 0.04859595251861333\n",
      "42000 0.0030428501876470387 0.0489493320003849\n",
      "43000 0.0030124594001220023 0.04929755662626836\n",
      "44000 0.002982844722749993 0.04964064020643213\n",
      "45000 0.0029539781502661453 0.04997860898721597\n",
      "46000 0.002925833194617666 0.05031150266775002\n",
      "47000 0.002898384741196357 0.0506393748873642\n",
      "48000 0.0028716089215075884 0.0509622931953401\n",
      "49000 0.002845483000664994 0.05128033854250305\n",
      "50000 0.0028199852782577815 0.05159360435711717\n",
      "51000 0.0027950950012734115 0.051902195283854244\n",
      "52000 0.002770792287871623 0.05220622567350077\n",
      "53000 0.0027470580608950812 0.052505817912783234\n",
      "54000 0.0027238739900735222 0.0528011006791872\n",
      "55000 0.002701222441935259 0.0530922071964026\n",
      "56000 0.002679086436491321 0.05337927355367574\n",
      "57000 0.002657449609807088 0.05366243713851792\n",
      "58000 0.0026362961816296495 0.05394183521824429\n",
      "59000 0.0026156109272982607 0.054217603692762587\n",
      "60000 0.0025953791532309822 0.05448987602956656\n",
      "61000 0.002575586675351268 0.05475878238238331\n",
      "62000 0.002556219799892956 0.05502444888750349\n",
      "63000 0.002537265306097253 0.05528699712638327\n",
      "64000 0.0025187104303894124 0.055546543739464195\n",
      "65000 0.0025005428516925838 0.05580320017404888\n",
      "66000 0.0024827506776015236 0.05605707254832165\n",
      "67000 0.0024653224340507253 0.05630836898013025\n",
      "68000 0.002479692208762861 0.05695521661154448\n",
      "69000 0.002468766158260628 0.05724856502821368\n",
      "70000 0.002458122319606503 0.05753829598098448\n",
      "71000 0.0024475970009160135 0.05782398914608845\n",
      "72000 0.0024371666853856794 0.05810574772951679\n",
      "73000 0.002426837447604226 0.058383746417073216\n",
      "74000 0.00241662145896749 0.058658170052687926\n",
      "75000 0.002406530638979478 0.05892919534146549\n",
      "76000 0.0023965749941055998 0.059196985740147444\n",
      "77000 0.002386762336069702 0.05946169082149879\n",
      "78000 0.002377098422150781 0.059723447149402586\n",
      "79000 0.0023675872150650886 0.05998237957409535\n",
      "80000 0.002358231159659235 0.06023860254263129\n",
      "81000 0.002349031440633981 0.06049222128722187\n",
      "82000 0.0023399882100521995 0.06074333285955931\n",
      "83000 0.0023311007829093806 0.06099202701862879\n",
      "84000 0.0023223678027577787 0.06123838699176602\n",
      "85000 0.002313787380681318 0.061482490130179125\n",
      "86000 0.0023053572111854043 0.06172440847778029\n",
      "87000 0.0022970746683931603 0.061964209268840525\n",
      "88000 0.002288936885595396 0.06220195536679633\n",
      "89000 0.002280940820809473 0.0624377056538711\n",
      "90000 0.0022730833106226495 0.0626715153790681\n",
      "91000 0.0022653611142476877 0.06290343647046784\n",
      "92000 0.002257770949415465 0.06313351781655795\n",
      "93000 0.0022503095214669398 0.06336180552040042\n",
      "94000 0.0022429735467855163 0.06358834312976834\n",
      "95000 0.002235759771523343 0.06381317184586618\n",
      "96000 0.0022286649864184864 0.06403633071285411\n",
      "97000 0.0022216860383691074 0.0642578567900991\n",
      "98000 0.002214819839320356 0.06447778530882896\n",
      "99000 0.0022080633729299314 0.06469614981467649\n"
     ]
    }
   ],
   "source": [
    "for i in range(100000):\n",
    "    pY_train , Z_train = forward(X_train,W1,b1,W2,b2)\n",
    "    pY_test , Z_test = forward(X_test, W1, b1, W2, b2)\n",
    "    \n",
    "    c_train = cross_entropy(Y_train_ind,pY_train)\n",
    "    c_test = cross_entropy(Y_test_ind, pY_test)\n",
    "    \n",
    "    train_cost.append(c_train)\n",
    "    test_cost.append(c_test)\n",
    "    \n",
    "    W2 -= learning_rate*(Z_train.T.dot(pY_train - Y_train_ind))\n",
    "    b2 -= (learning_rate*(pY_train - Y_train_ind)).sum()\n",
    "    \n",
    "    dZ = ((pY_train - Y_train_ind).dot(W2.T)) * (1 - Z_train*Z_train)\n",
    "    \n",
    "    W1 -= learning_rate*(X_train.T.dot(dZ))\n",
    "    b1 -= (learning_rate*dZ).sum(axis=0)\n",
    "    \n",
    "    if i % 1000 == 0:\n",
    "            print(i, c_train, c_test)"
   ]
  },
  {
   "cell_type": "code",
   "execution_count": 80,
   "metadata": {},
   "outputs": [
    {
     "name": "stdout",
     "output_type": "stream",
     "text": [
      "Final train classification rate : 1.0\n",
      "Final test classification rate : 0.97\n"
     ]
    }
   ],
   "source": [
    "print (\"Final train classification rate : \" + str(classification_rate(Y_train , predict(pY_train))))\n",
    "print (\"Final test classification rate : \" + str(classification_rate(Y_test ,predict(pY_test))))"
   ]
  },
  {
   "cell_type": "code",
   "execution_count": null,
   "metadata": {},
   "outputs": [],
   "source": []
  },
  {
   "cell_type": "code",
   "execution_count": 81,
   "metadata": {},
   "outputs": [
    {
     "data": {
      "image/png": "[encoded data removed]",
      "text/plain": [
       "<Figure size 432x288 with 1 Axes>"
      ]
     },
     "metadata": {
      "needs_background": "light"
     },
     "output_type": "display_data"
    }
   ],
   "source": [
    "legend1, = plt.plot(train_cost, label = 'train cost')\n",
    "legend2, = plt.plot(test_cost, label = 'test cost')\n",
    "\n",
    "plt.legend([legend1,legend2])\n",
    "plt.show()"
   ]
  },
  {
   "cell_type": "code",
   "execution_count": null,
   "metadata": {},
   "outputs": [],
   "source": []
  },
  {
   "cell_type": "code",
   "execution_count": null,
   "metadata": {},
   "outputs": [],
   "source": []
  },
  {
   "cell_type": "code",
   "execution_count": null,
   "metadata": {},
   "outputs": [],
   "source": []
  },
  {
   "cell_type": "code",
   "execution_count": null,
   "metadata": {},
   "outputs": [],
   "source": []
  },
  {
   "cell_type": "code",
   "execution_count": null,
   "metadata": {},
   "outputs": [],
   "source": []
  },
  {
   "cell_type": "code",
   "execution_count": null,
   "metadata": {},
   "outputs": [],
   "source": []
  },
  {
   "cell_type": "code",
   "execution_count": null,
   "metadata": {},
   "outputs": [],
   "source": []
  },
  {
   "cell_type": "code",
   "execution_count": null,
   "metadata": {},
   "outputs": [],
   "source": []
  },
  {
   "cell_type": "code",
   "execution_count": null,
   "metadata": {},
   "outputs": [],
   "source": []
  }
 ],
 "metadata": {
  "kernelspec": {
   "display_name": "Python 3",
   "language": "python",
   "name": "python3"
  },
  "language_info": {
   "codemirror_mode": {
    "name": "ipython",
    "version": 3
   },
   "file_extension": ".py",
   "mimetype": "text/x-python",
   "name": "python",
   "nbconvert_exporter": "python",
   "pygments_lexer": "ipython3",
   "version": "3.7.1"
  }
 },
 "nbformat": 4,
 "nbformat_minor": 2
}
